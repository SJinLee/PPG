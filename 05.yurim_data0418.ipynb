{
  "nbformat": 4,
  "nbformat_minor": 0,
  "metadata": {
    "colab": {
      "provenance": [],
      "authorship_tag": "ABX9TyNrcvigMXFGMXOJHIsJo6Xv",
      "include_colab_link": true
    },
    "kernelspec": {
      "name": "python3",
      "display_name": "Python 3"
    },
    "language_info": {
      "name": "python"
    }
  },
  "cells": [
    {
      "cell_type": "markdown",
      "metadata": {
        "id": "view-in-github",
        "colab_type": "text"
      },
      "source": [
        "<a href=\"https://colab.research.google.com/github/SJinLee/PPG/blob/main/05.yurim_data0418.ipynb\" target=\"_parent\"><img src=\"https://colab.research.google.com/assets/colab-badge.svg\" alt=\"Open In Colab\"/></a>"
      ]
    },
    {
      "cell_type": "markdown",
      "source": [
        "* 데이터만 준비된 상태\n",
        "* HRV analysis 는 다음 사이트에서 계산법을 찾을 수 있음\n",
        "\n",
        "https://github.com/Aura-healthcare/hrv-analysis"
      ],
      "metadata": {
        "id": "vsDQ9Z5hYIYE"
      }
    },
    {
      "cell_type": "code",
      "execution_count": 2,
      "metadata": {
        "id": "4rInmP6i_OmU"
      },
      "outputs": [],
      "source": [
        "from scipy import io\n",
        "mat_file = io.loadmat('yurim0418_8min.mat')"
      ]
    },
    {
      "cell_type": "code",
      "source": [
        "mat_file"
      ],
      "metadata": {
        "id": "0FpVp9dMYd6O",
        "outputId": "a24a4fd9-c0ed-4b67-b00f-2a0bc0d0001b",
        "colab": {
          "base_uri": "https://localhost:8080/"
        }
      },
      "execution_count": 3,
      "outputs": [
        {
          "output_type": "execute_result",
          "data": {
            "text/plain": [
              "{'__header__': b'MATLAB 5.0 MAT-file, Platform: PCWIN64, Created on: Thu Apr 18 10:21:18 2024',\n",
              " '__version__': '1.0',\n",
              " '__globals__': [],\n",
              " 'data': array([[482, 484, 486, ..., 493, 494, 494]], dtype=uint16)}"
            ]
          },
          "metadata": {},
          "execution_count": 3
        }
      ]
    },
    {
      "cell_type": "code",
      "source": [
        "data = mat_file['data']"
      ],
      "metadata": {
        "id": "FefRZux8Yuws"
      },
      "execution_count": 4,
      "outputs": []
    },
    {
      "cell_type": "code",
      "source": [
        "import matplotlib.pyplot as plt\n",
        "plt.plot(data[0])"
      ],
      "metadata": {
        "colab": {
          "base_uri": "https://localhost:8080/",
          "height": 449
        },
        "id": "U_Ru8mCVAUWM",
        "outputId": "1a259df3-59c6-4fa7-dfb3-3ffed0acdc91"
      },
      "execution_count": 7,
      "outputs": [
        {
          "output_type": "execute_result",
          "data": {
            "text/plain": [
              "[<matplotlib.lines.Line2D at 0x7e1eac7da9e0>]"
            ]
          },
          "metadata": {},
          "execution_count": 7
        },
        {
          "output_type": "display_data",
          "data": {
            "text/plain": [
              "<Figure size 640x480 with 1 Axes>"
            ],
            "image/png": "[encoded data removed]"
          },
          "metadata": {}
        }
      ]
    },
    {
      "cell_type": "code",
      "source": [
        "import pandas as pd"
      ],
      "metadata": {
        "id": "umYIHmMiZIh2"
      },
      "execution_count": 9,
      "outputs": []
    },
    {
      "cell_type": "code",
      "source": [
        "def get_lowpass(ppg):\n",
        "    ppg2 = ppg.copy()\n",
        "    d = 0.92\n",
        "    a = d\n",
        "    b = 1-d\n",
        "    xi = ppg2['Red_Signal'].values[1:].astype(float).copy()\n",
        "    v = ppg2['Red_Signal'].values.astype(float).copy()\n",
        "    y = v[0]\n",
        "    i = 1\n",
        "    for x in xi:\n",
        "        y += b*(x-y)\n",
        "        v[i] = y\n",
        "        i += 1\n",
        "    ppg2['Red_Signal2'] = v\n",
        "    ppg2['Time'] = pd.to_datetime(ppg2['Time'])\n",
        "    return ppg2"
      ],
      "metadata": {
        "id": "a6iIylxhDCw5"
      },
      "execution_count": 10,
      "outputs": []
    },
    {
      "cell_type": "code",
      "source": [
        "import numpy as np\n",
        "data2 = pd.DataFrame({'Red_Signal':data[0]})\n",
        "data2['Time'] = pd.to_datetime('2024-04-11 00:00:00')+pd.Timedelta(milliseconds=1000/790)*data2.index\n",
        "data3 = get_lowpass(data2)\n",
        "diff=data3['Red_Signal2'].diff()\n",
        "data3['peak'] = np.concatenate([[False],(diff.iloc[1:-1].values>0) & (diff.iloc[2:].values<0),[False]])\n",
        "data3['peak2'] = data3['peak'] & (data3['Red_Signal']>600)"
      ],
      "metadata": {
        "id": "4s1nv3wrDD5m"
      },
      "execution_count": 19,
      "outputs": []
    },
    {
      "cell_type": "code",
      "source": [
        "data3"
      ],
      "metadata": {
        "colab": {
          "base_uri": "https://localhost:8080/",
          "height": 423
        },
        "id": "h9n-ZyemyNtW",
        "outputId": "65ec8005-6f4f-431f-9fdd-7a254d25ad1b"
      },
      "execution_count": 20,
      "outputs": [
        {
          "output_type": "execute_result",
          "data": {
            "text/plain": [
              "        Red_Signal                          Time  Red_Signal2   peak  peak2\n",
              "0              482 2024-04-11 00:00:00.000000000   482.000000  False  False\n",
              "1              484 2024-04-11 00:00:00.001265822   482.160000  False  False\n",
              "2              486 2024-04-11 00:00:00.002531644   482.467200  False  False\n",
              "3              491 2024-04-11 00:00:00.003797466   483.149824  False  False\n",
              "4              492 2024-04-11 00:00:00.005063288   483.857838  False  False\n",
              "...            ...                           ...          ...    ...    ...\n",
              "479995         491 2024-04-11 00:10:07.588230890   477.586224  False  False\n",
              "479996         494 2024-04-11 00:10:07.589496712   478.899326  False  False\n",
              "479997         493 2024-04-11 00:10:07.590762534   480.027380  False  False\n",
              "479998         494 2024-04-11 00:10:07.592028356   481.145190  False  False\n",
              "479999         494 2024-04-11 00:10:07.593294178   482.173575  False  False\n",
              "\n",
              "[480000 rows x 5 columns]"
            ],
            "text/html": [
              "\n",
              "  <div id=\"df-f02c3658-9dee-4b82-b09f-1bf9ddd964b3\" class=\"colab-df-container\">\n",
              "    <div>\n",
              "<style scoped>\n",
              "    .dataframe tbody tr th:only-of-type {\n",
              "        vertical-align: middle;\n",
              "    }\n",
              "\n",
              "    .dataframe tbody tr th {\n",
              "        vertical-align: top;\n",
              "    }\n",
              "\n",
              "    .dataframe thead th {\n",
              "        text-align: right;\n",
              "    }\n",
              "</style>\n",
              "<table border=\"1\" class=\"dataframe\">\n",
              "  <thead>\n",
              "    <tr style=\"text-align: right;\">\n",
              "      <th></th>\n",
              "      <th>Red_Signal</th>\n",
              "      <th>Time</th>\n",
              "      <th>Red_Signal2</th>\n",
              "      <th>peak</th>\n",
              "      <th>peak2</th>\n",
              "    </tr>\n",
              "  </thead>\n",
              "  <tbody>\n",
              "    <tr>\n",
              "      <th>0</th>\n",
              "      <td>482</td>\n",
              "      <td>2024-04-11 00:00:00.000000000</td>\n",
              "      <td>482.000000</td>\n",
              "      <td>False</td>\n",
              "      <td>False</td>\n",
              "    </tr>\n",
              "    <tr>\n",
              "      <th>1</th>\n",
              "      <td>484</td>\n",
              "      <td>2024-04-11 00:00:00.001265822</td>\n",
              "      <td>482.160000</td>\n",
              "      <td>False</td>\n",
              "      <td>False</td>\n",
              "    </tr>\n",
              "    <tr>\n",
              "      <th>2</th>\n",
              "      <td>486</td>\n",
              "      <td>2024-04-11 00:00:00.002531644</td>\n",
              "      <td>482.467200</td>\n",
              "      <td>False</td>\n",
              "      <td>False</td>\n",
              "    </tr>\n",
              "    <tr>\n",
              "      <th>3</th>\n",
              "      <td>491</td>\n",
              "      <td>2024-04-11 00:00:00.003797466</td>\n",
              "      <td>483.149824</td>\n",
              "      <td>False</td>\n",
              "      <td>False</td>\n",
              "    </tr>\n",
              "    <tr>\n",
              "      <th>4</th>\n",
              "      <td>492</td>\n",
              "      <td>2024-04-11 00:00:00.005063288</td>\n",
              "      <td>483.857838</td>\n",
              "      <td>False</td>\n",
              "      <td>False</td>\n",
              "    </tr>\n",
              "    <tr>\n",
              "      <th>...</th>\n",
              "      <td>...</td>\n",
              "      <td>...</td>\n",
              "      <td>...</td>\n",
              "      <td>...</td>\n",
              "      <td>...</td>\n",
              "    </tr>\n",
              "    <tr>\n",
              "      <th>479995</th>\n",
              "      <td>491</td>\n",
              "      <td>2024-04-11 00:10:07.588230890</td>\n",
              "      <td>477.586224</td>\n",
              "      <td>False</td>\n",
              "      <td>False</td>\n",
              "    </tr>\n",
              "    <tr>\n",
              "      <th>479996</th>\n",
              "      <td>494</td>\n",
              "      <td>2024-04-11 00:10:07.589496712</td>\n",
              "      <td>478.899326</td>\n",
              "      <td>False</td>\n",
              "      <td>False</td>\n",
              "    </tr>\n",
              "    <tr>\n",
              "      <th>479997</th>\n",
              "      <td>493</td>\n",
              "      <td>2024-04-11 00:10:07.590762534</td>\n",
              "      <td>480.027380</td>\n",
              "      <td>False</td>\n",
              "      <td>False</td>\n",
              "    </tr>\n",
              "    <tr>\n",
              "      <th>479998</th>\n",
              "      <td>494</td>\n",
              "      <td>2024-04-11 00:10:07.592028356</td>\n",
              "      <td>481.145190</td>\n",
              "      <td>False</td>\n",
              "      <td>False</td>\n",
              "    </tr>\n",
              "    <tr>\n",
              "      <th>479999</th>\n",
              "      <td>494</td>\n",
              "      <td>2024-04-11 00:10:07.593294178</td>\n",
              "      <td>482.173575</td>\n",
              "      <td>False</td>\n",
              "      <td>False</td>\n",
              "    </tr>\n",
              "  </tbody>\n",
              "</table>\n",
              "<p>480000 rows × 5 columns</p>\n",
              "</div>\n",
              "    <div class=\"colab-df-buttons\">\n",
              "\n",
              "  <div class=\"colab-df-container\">\n",
              "    <button class=\"colab-df-convert\" onclick=\"convertToInteractive('df-f02c3658-9dee-4b82-b09f-1bf9ddd964b3')\"\n",
              "            title=\"Convert this dataframe to an interactive table.\"\n",
              "            style=\"display:none;\">\n",
              "\n",
              "  <svg xmlns=\"http://www.w3.org/2000/svg\" height=\"24px\" viewBox=\"0 -960 960 960\">\n",
              "    <path d=\"M120-120v-720h720v720H120Zm60-500h600v-160H180v160Zm220 220h160v-160H400v160Zm0 220h160v-160H400v160ZM180-400h160v-160H180v160Zm440 0h160v-160H620v160ZM180-180h160v-160H180v160Zm440 0h160v-160H620v160Z\"/>\n",
              "  </svg>\n",
              "    </button>\n",
              "\n",
              "  <style>\n",
              "    .colab-df-container {\n",
              "      display:flex;\n",
              "      gap: 12px;\n",
              "    }\n",
              "\n",
              "    .colab-df-convert {\n",
              "      background-color: #E8F0FE;\n",
              "      border: none;\n",
              "      border-radius: 50%;\n",
              "      cursor: pointer;\n",
              "      display: none;\n",
              "      fill: #1967D2;\n",
              "      height: 32px;\n",
              "      padding: 0 0 0 0;\n",
              "      width: 32px;\n",
              "    }\n",
              "\n",
              "    .colab-df-convert:hover {\n",
              "      background-color: #E2EBFA;\n",
              "      box-shadow: 0px 1px 2px rgba(60, 64, 67, 0.3), 0px 1px 3px 1px rgba(60, 64, 67, 0.15);\n",
              "      fill: #174EA6;\n",
              "    }\n",
              "\n",
              "    .colab-df-buttons div {\n",
              "      margin-bottom: 4px;\n",
              "    }\n",
              "\n",
              "    [theme=dark] .colab-df-convert {\n",
              "      background-color: #3B4455;\n",
              "      fill: #D2E3FC;\n",
              "    }\n",
              "\n",
              "    [theme=dark] .colab-df-convert:hover {\n",
              "      background-color: #434B5C;\n",
              "      box-shadow: 0px 1px 3px 1px rgba(0, 0, 0, 0.15);\n",
              "      filter: drop-shadow(0px 1px 2px rgba(0, 0, 0, 0.3));\n",
              "      fill: #FFFFFF;\n",
              "    }\n",
              "  </style>\n",
              "\n",
              "    <script>\n",
              "      const buttonEl =\n",
              "        document.querySelector('#df-f02c3658-9dee-4b82-b09f-1bf9ddd964b3 button.colab-df-convert');\n",
              "      buttonEl.style.display =\n",
              "        google.colab.kernel.accessAllowed ? 'block' : 'none';\n",
              "\n",
              "      async function convertToInteractive(key) {\n",
              "        const element = document.querySelector('#df-f02c3658-9dee-4b82-b09f-1bf9ddd964b3');\n",
              "        const dataTable =\n",
              "          await google.colab.kernel.invokeFunction('convertToInteractive',\n",
              "                                                    [key], {});\n",
              "        if (!dataTable) return;\n",
              "\n",
              "        const docLinkHtml = 'Like what you see? Visit the ' +\n",
              "          '<a target=\"_blank\" href=https://colab.research.google.com/notebooks/data_table.ipynb>data table notebook</a>'\n",
              "          + ' to learn more about interactive tables.';\n",
              "        element.innerHTML = '';\n",
              "        dataTable['output_type'] = 'display_data';\n",
              "        await google.colab.output.renderOutput(dataTable, element);\n",
              "        const docLink = document.createElement('div');\n",
              "        docLink.innerHTML = docLinkHtml;\n",
              "        element.appendChild(docLink);\n",
              "      }\n",
              "    </script>\n",
              "  </div>\n",
              "\n",
              "\n",
              "<div id=\"df-a291bdfb-1dfe-4ec4-9087-4963b4ede470\">\n",
              "  <button class=\"colab-df-quickchart\" onclick=\"quickchart('df-a291bdfb-1dfe-4ec4-9087-4963b4ede470')\"\n",
              "            title=\"Suggest charts\"\n",
              "            style=\"display:none;\">\n",
              "\n",
              "<svg xmlns=\"http://www.w3.org/2000/svg\" height=\"24px\"viewBox=\"0 0 24 24\"\n",
              "     width=\"24px\">\n",
              "    <g>\n",
              "        <path d=\"M19 3H5c-1.1 0-2 .9-2 2v14c0 1.1.9 2 2 2h14c1.1 0 2-.9 2-2V5c0-1.1-.9-2-2-2zM9 17H7v-7h2v7zm4 0h-2V7h2v10zm4 0h-2v-4h2v4z\"/>\n",
              "    </g>\n",
              "</svg>\n",
              "  </button>\n",
              "\n",
              "<style>\n",
              "  .colab-df-quickchart {\n",
              "      --bg-color: #E8F0FE;\n",
              "      --fill-color: #1967D2;\n",
              "      --hover-bg-color: #E2EBFA;\n",
              "      --hover-fill-color: #174EA6;\n",
              "      --disabled-fill-color: #AAA;\n",
              "      --disabled-bg-color: #DDD;\n",
              "  }\n",
              "\n",
              "  [theme=dark] .colab-df-quickchart {\n",
              "      --bg-color: #3B4455;\n",
              "      --fill-color: #D2E3FC;\n",
              "      --hover-bg-color: #434B5C;\n",
              "      --hover-fill-color: #FFFFFF;\n",
              "      --disabled-bg-color: #3B4455;\n",
              "      --disabled-fill-color: #666;\n",
              "  }\n",
              "\n",
              "  .colab-df-quickchart {\n",
              "    background-color: var(--bg-color);\n",
              "    border: none;\n",
              "    border-radius: 50%;\n",
              "    cursor: pointer;\n",
              "    display: none;\n",
              "    fill: var(--fill-color);\n",
              "    height: 32px;\n",
              "    padding: 0;\n",
              "    width: 32px;\n",
              "  }\n",
              "\n",
              "  .colab-df-quickchart:hover {\n",
              "    background-color: var(--hover-bg-color);\n",
              "    box-shadow: 0 1px 2px rgba(60, 64, 67, 0.3), 0 1px 3px 1px rgba(60, 64, 67, 0.15);\n",
              "    fill: var(--button-hover-fill-color);\n",
              "  }\n",
              "\n",
              "  .colab-df-quickchart-complete:disabled,\n",
              "  .colab-df-quickchart-complete:disabled:hover {\n",
              "    background-color: var(--disabled-bg-color);\n",
              "    fill: var(--disabled-fill-color);\n",
              "    box-shadow: none;\n",
              "  }\n",
              "\n",
              "  .colab-df-spinner {\n",
              "    border: 2px solid var(--fill-color);\n",
              "    border-color: transparent;\n",
              "    border-bottom-color: var(--fill-color);\n",
              "    animation:\n",
              "      spin 1s steps(1) infinite;\n",
              "  }\n",
              "\n",
              "  @keyframes spin {\n",
              "    0% {\n",
              "      border-color: transparent;\n",
              "      border-bottom-color: var(--fill-color);\n",
              "      border-left-color: var(--fill-color);\n",
              "    }\n",
              "    20% {\n",
              "      border-color: transparent;\n",
              "      border-left-color: var(--fill-color);\n",
              "      border-top-color: var(--fill-color);\n",
              "    }\n",
              "    30% {\n",
              "      border-color: transparent;\n",
              "      border-left-color: var(--fill-color);\n",
              "      border-top-color: var(--fill-color);\n",
              "      border-right-color: var(--fill-color);\n",
              "    }\n",
              "    40% {\n",
              "      border-color: transparent;\n",
              "      border-right-color: var(--fill-color);\n",
              "      border-top-color: var(--fill-color);\n",
              "    }\n",
              "    60% {\n",
              "      border-color: transparent;\n",
              "      border-right-color: var(--fill-color);\n",
              "    }\n",
              "    80% {\n",
              "      border-color: transparent;\n",
              "      border-right-color: var(--fill-color);\n",
              "      border-bottom-color: var(--fill-color);\n",
              "    }\n",
              "    90% {\n",
              "      border-color: transparent;\n",
              "      border-bottom-color: var(--fill-color);\n",
              "    }\n",
              "  }\n",
              "</style>\n",
              "\n",
              "  <script>\n",
              "    async function quickchart(key) {\n",
              "      const quickchartButtonEl =\n",
              "        document.querySelector('#' + key + ' button');\n",
              "      quickchartButtonEl.disabled = true;  // To prevent multiple clicks.\n",
              "      quickchartButtonEl.classList.add('colab-df-spinner');\n",
              "      try {\n",
              "        const charts = await google.colab.kernel.invokeFunction(\n",
              "            'suggestCharts', [key], {});\n",
              "      } catch (error) {\n",
              "        console.error('Error during call to suggestCharts:', error);\n",
              "      }\n",
              "      quickchartButtonEl.classList.remove('colab-df-spinner');\n",
              "      quickchartButtonEl.classList.add('colab-df-quickchart-complete');\n",
              "    }\n",
              "    (() => {\n",
              "      let quickchartButtonEl =\n",
              "        document.querySelector('#df-a291bdfb-1dfe-4ec4-9087-4963b4ede470 button');\n",
              "      quickchartButtonEl.style.display =\n",
              "        google.colab.kernel.accessAllowed ? 'block' : 'none';\n",
              "    })();\n",
              "  </script>\n",
              "</div>\n",
              "    </div>\n",
              "  </div>\n"
            ],
            "application/vnd.google.colaboratory.intrinsic+json": {
              "type": "dataframe",
              "variable_name": "data3"
            }
          },
          "metadata": {},
          "execution_count": 20
        }
      ]
    },
    {
      "cell_type": "code",
      "source": [
        "import matplotlib.pyplot as plt\n",
        "def draw_ppg(ppg2,start,period):\n",
        "    t = ppg2['Time'][start:start+period]\n",
        "    x = ppg2['Red_Signal'][start:start+period]\n",
        "    y = ppg2['Red_Signal2'][start:start+period]\n",
        "    plt.plot(t,x,label='input')\n",
        "    plt.plot(t,y,label='output')\n",
        "    if 'peak2' in ppg2:\n",
        "        peak = ppg2['peak2'][start:start+period]\n",
        "        plt.plot(t.loc[peak],y.loc[peak],'og')\n",
        "    plt.legend()"
      ],
      "metadata": {
        "id": "NULqbLWbzdl8"
      },
      "execution_count": 21,
      "outputs": []
    },
    {
      "cell_type": "code",
      "source": [
        "draw_ppg(data3,300,5000)"
      ],
      "metadata": {
        "colab": {
          "base_uri": "https://localhost:8080/",
          "height": 432
        },
        "id": "6UKCiZRvyVWT",
        "outputId": "092867f1-540d-4be3-883a-17dc7031532a"
      },
      "execution_count": 22,
      "outputs": [
        {
          "output_type": "display_data",
          "data": {
            "text/plain": [
              "<Figure size 640x480 with 1 Axes>"
            ],
            "image/png": "[encoded data removed]"
          },
          "metadata": {}
        }
      ]
    },
    {
      "cell_type": "markdown",
      "source": [
        "* RRInterval"
      ],
      "metadata": {
        "id": "YQLR5ylxcAEI"
      }
    },
    {
      "cell_type": "code",
      "source": [
        "rrinterval = data3.loc[data3['peak2']]['Time'].diff() / pd.to_timedelta(1, unit='S')\n",
        "rrinterval = rrinterval.values[1:]\n",
        "rrinterval.shape"
      ],
      "metadata": {
        "id": "F3ZtIjZi12R3",
        "outputId": "8e07ffbc-8f72-432b-b773-7eeeb0149c7e",
        "colab": {
          "base_uri": "https://localhost:8080/"
        }
      },
      "execution_count": 38,
      "outputs": [
        {
          "output_type": "execute_result",
          "data": {
            "text/plain": [
              "(915,)"
            ]
          },
          "metadata": {},
          "execution_count": 38
        }
      ]
    },
    {
      "cell_type": "code",
      "source": [
        "step = 20\n",
        "for i in range(0,len(rrinterval),step):\n",
        "    print(i,rrinterval[i:i+step].mean())"
      ],
      "metadata": {
        "id": "A23m8VVEdGzF",
        "outputId": "56eeee24-5163-4fbe-844c-2c135dedf3fb",
        "colab": {
          "base_uri": "https://localhost:8080/"
        }
      },
      "execution_count": 40,
      "outputs": [
        {
          "output_type": "stream",
          "name": "stdout",
          "text": [
            "0 0.6215818931\n",
            "20 0.6365185927000001\n",
            "40 0.6174679716\n",
            "60 0.7146831012\n",
            "80 0.5943034289999999\n",
            "100 0.5924679870999999\n",
            "120 0.5844300174000001\n",
            "140 0.5748730612999999\n",
            "160 0.6230375884\n",
            "180 0.6447464356999999\n",
            "200 0.5950629221999999\n",
            "220 0.65189833\n",
            "240 0.6184806292\n",
            "260 0.6218350575000001\n",
            "280 0.6649995876999999\n",
            "300 0.6421515006\n",
            "320 0.5939236824\n",
            "340 0.5924046960000001\n",
            "360 0.5876578634999999\n",
            "380 0.5712021775\n",
            "400 0.6415818807\n",
            "420 0.8515817505000001\n",
            "440 0.6857590685\n",
            "460 0.6024679809\n",
            "480 0.7839235646\n",
            "500 0.5972148196\n",
            "520 0.8402526435999998\n",
            "540 0.8102526621999999\n",
            "560 0.8803159099\n",
            "580 0.8060121585\n",
            "600 1.2977207144\n",
            "620 0.6556325049\n",
            "640 0.6187337935999999\n",
            "660 0.7527210523\n",
            "680 0.5711388864\n",
            "700 0.6089869642\n",
            "720 0.618986958\n",
            "740 0.6511388368000001\n",
            "760 0.5602528172\n",
            "780 0.5767085031999999\n",
            "800 0.7027210833\n",
            "820 0.6121515192\n",
            "840 0.5946831756\n",
            "860 0.6230375883999999\n",
            "880 0.6296198628\n",
            "900 0.5843878233333334\n"
          ]
        }
      ]
    },
    {
      "cell_type": "code",
      "source": [
        "tm = rrinterval.cumsum() - rrinterval[0]"
      ],
      "metadata": {
        "id": "d46zvhgkaT45"
      },
      "execution_count": 37,
      "outputs": []
    },
    {
      "cell_type": "markdown",
      "source": [
        "* use interpolate1d to do sampling"
      ],
      "metadata": {
        "id": "DJUGdVkRar1l"
      }
    }
  ]
}